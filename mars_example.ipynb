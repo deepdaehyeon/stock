{
 "cells": [
  {
   "cell_type": "markdown",
   "metadata": {},
   "source": [
    "# MARS pjt tutorial "
   ]
  },
  {
   "cell_type": "code",
   "execution_count": 37,
   "metadata": {},
   "outputs": [
    {
     "name": "stdout",
     "output_type": "stream",
     "text": [
      "The autoreload extension is already loaded. To reload it, use:\n",
      "  %reload_ext autoreload\n"
     ]
    }
   ],
   "source": [
    "# Auto reloading \n",
    "%load_ext autoreload \n",
    "%autoreload 2"
   ]
  },
  {
   "cell_type": "markdown",
   "metadata": {},
   "source": [
    "### 1. data crawling"
   ]
  },
  {
   "cell_type": "code",
   "execution_count": 28,
   "metadata": {},
   "outputs": [
    {
     "name": "stdout",
     "output_type": "stream",
     "text": [
      "[*********************100%***********************]  1 of 1 completed\n",
      "[*********************100%***********************]  1 of 1 completed\n",
      "[*********************100%***********************]  1 of 1 completed\n",
      "[*********************100%***********************]  1 of 1 completed\n",
      "[*********************100%***********************]  1 of 1 completed\n"
     ]
    }
   ],
   "source": [
    "from lib import Crawler\n",
    "\n",
    "ticker_list = [\n",
    "    'QQQ', 'UVXY', 'XOP', 'IEF', 'SHY'\n",
    "] \n",
    "from_date = '2001-01-01' \n",
    "to_date = '2021-12-12'\n",
    "\n",
    "crawler = Crawler(from_date = from_date) \n",
    "crawler.run_etf(ticker_list) \n"
   ]
  },
  {
   "cell_type": "markdown",
   "metadata": {},
   "source": [
    "### 2. Data preprocessing"
   ]
  },
  {
   "cell_type": "code",
   "execution_count": 31,
   "metadata": {},
   "outputs": [
    {
     "name": "stdout",
     "output_type": "stream",
     "text": [
      "\u001b[32mdatasets saved at ./data/tutorial\u001b[0m\n",
      "\u001b[32m# of train sample : 1959\u001b[0m\n",
      "\u001b[32m# of valid sample : 490\u001b[0m\n",
      "\u001b[32m# of test sample : 273\u001b[0m\n"
     ]
    }
   ],
   "source": [
    "from lib import Prep\n",
    "\n",
    "# Params\n",
    "dataset_name = 'tutorial'\n",
    "target_period = 5 \n",
    "scaling_price = 'Close'\n",
    "scaling_amount = 'Lvolume'\n",
    "long_period = 100\n",
    "mid_period = 45\n",
    "short_period = 10\n",
    "test_size = 0.1\n",
    "valid_size = 0.2\n",
    "random_seed = 42\n",
    "\n",
    "proc = Prep( \n",
    "    dataset_name = dataset_name, \n",
    "    target_period = target_period, \n",
    "    scaling_price = scaling_price,\n",
    "    scaling_amount=scaling_amount ,  \n",
    "    long_period=long_period ,  \n",
    "    mid_period= mid_period,  \n",
    "    short_period= short_period,  \n",
    "    test_size=test_size ,  \n",
    "    valid_size=valid_size ,  \n",
    "    random_seed = random_seed \n",
    ") \n",
    "proc.run()\n"
   ]
  },
  {
   "cell_type": "code",
   "execution_count": 1,
   "metadata": {},
   "outputs": [
    {
     "name": "stderr",
     "output_type": "stream",
     "text": [
      "/opt/homebrew/Caskroom/miniforge/base/envs/boost/lib/python3.8/site-packages/tqdm/auto.py:22: TqdmWarning: IProgress not found. Please update jupyter and ipywidgets. See https://ipywidgets.readthedocs.io/en/stable/user_install.html\n",
      "  from .autonotebook import tqdm as notebook_tqdm\n"
     ]
    },
    {
     "data": {
      "text/plain": [
       "['tutorial']"
      ]
     },
     "execution_count": 1,
     "metadata": {},
     "output_type": "execute_result"
    }
   ],
   "source": [
    "from lib import StockDataFrame\n",
    "dg = StockDataFrame()\n",
    "dg.list_datagroup()"
   ]
  },
  {
   "cell_type": "code",
   "execution_count": 2,
   "metadata": {},
   "outputs": [
    {
     "name": "stdout",
     "output_type": "stream",
     "text": [
      "\u001b[32mdataset is loaded from ./data/tutorial\u001b[0m\n"
     ]
    }
   ],
   "source": [
    "dg.load_datagroup('tutorial')"
   ]
  },
  {
   "cell_type": "code",
   "execution_count": 3,
   "metadata": {},
   "outputs": [
    {
     "name": "stdout",
     "output_type": "stream",
     "text": [
      "\u001b[32mData group name: tutorial\u001b[0m\n",
      "\u001b[32mtarget_period\u001b[0m\n",
      "\u001b[34m5\u001b[0m\n",
      "\u001b[32mscaling_price \u001b[0m\n",
      "\u001b[34mClose\u001b[0m\n",
      "\u001b[32mscaling_amount\u001b[0m\n",
      "\u001b[34mLvolume\u001b[0m\n",
      "\u001b[32mlong_period\u001b[0m\n",
      "\u001b[34m100\u001b[0m\n",
      "\u001b[32mmid_period\u001b[0m\n",
      "\u001b[34m45\u001b[0m\n",
      "\u001b[32mshort_period\u001b[0m\n",
      "\u001b[34m10\u001b[0m\n",
      "\u001b[32mtest_size\u001b[0m\n",
      "\u001b[34m0.1\u001b[0m\n",
      "\u001b[32mvalid_size\u001b[0m\n",
      "\u001b[34m0.2\u001b[0m\n",
      "\u001b[32mrandom_seed\u001b[0m\n",
      "\u001b[34m42\u001b[0m\n"
     ]
    },
    {
     "data": {
      "text/plain": [
       "_________________________"
      ]
     },
     "execution_count": 3,
     "metadata": {},
     "output_type": "execute_result"
    }
   ],
   "source": [
    "dg"
   ]
  },
  {
   "cell_type": "markdown",
   "metadata": {},
   "source": [
    "## 3. model training "
   ]
  },
  {
   "cell_type": "code",
   "execution_count": null,
   "metadata": {},
   "outputs": [],
   "source": [
    "# Modules \n",
    "from lib import LGBM\n",
    "\n",
    "random_seed  = 17\n",
    "n_trials  = 100 \n",
    "n_batch  = 100 \n",
    "metric  = 'mae'\n",
    "run_name = None\n",
    "dataset_name = 'tutorial' \n",
    "\n",
    "# dataset check\n",
    "gbm = LGBM(\n",
    "    n_trials  = n_trials,  \n",
    "    n_batch  = n_batch, \n",
    "    metric  = metric, \n",
    "    random_seed  = random_seed, \n",
    ") \n",
    "\n",
    "\n",
    "gbm.tune() # run_name으로 저장\n"
   ]
  },
  {
   "cell_type": "markdown",
   "metadata": {},
   "source": [
    "## 4. Model predict"
   ]
  },
  {
   "cell_type": "code",
   "execution_count": null,
   "metadata": {},
   "outputs": [],
   "source": [
    "#TODO. model run name으로 불러와서 "
   ]
  },
  {
   "cell_type": "markdown",
   "metadata": {},
   "source": [
    "## 5. Display"
   ]
  },
  {
   "cell_type": "code",
   "execution_count": null,
   "metadata": {},
   "outputs": [],
   "source": []
  }
 ],
 "metadata": {
  "interpreter": {
   "hash": "aee8b7b246df8f9039afb4144a1f6fd8d2ca17a180786b69acc140d282b71a49"
  },
  "kernelspec": {
   "display_name": "Python 3.9.5 64-bit",
   "language": "python",
   "name": "python3"
  },
  "language_info": {
   "codemirror_mode": {
    "name": "ipython",
    "version": 3
   },
   "file_extension": ".py",
   "mimetype": "text/x-python",
   "name": "python",
   "nbconvert_exporter": "python",
   "pygments_lexer": "ipython3",
   "version": "3.8.8"
  },
  "orig_nbformat": 4
 },
 "nbformat": 4,
 "nbformat_minor": 2
}
