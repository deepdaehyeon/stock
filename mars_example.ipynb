{
 "cells": [
  {
   "cell_type": "markdown",
   "metadata": {},
   "source": [
    "# MARS pjt tutorial "
   ]
  },
  {
   "cell_type": "code",
   "execution_count": null,
   "metadata": {},
   "outputs": [],
   "source": [
    "# Auto reloading \n",
    "%load_ext autoreload \n",
    "%autoreload 2"
   ]
  },
  {
   "cell_type": "markdown",
   "metadata": {},
   "source": [
    "### 1. data crawling"
   ]
  },
  {
   "cell_type": "code",
   "execution_count": null,
   "metadata": {},
   "outputs": [],
   "source": [
    "from lib.crawler import Crawler\n",
    "\n",
    "ticker_list = [\n",
    "    'QQQ', 'UVXY', 'XOP', 'IEF' 'SHY'\n",
    "] \n",
    "from_date = '2001-01-01' \n",
    "to_date = '2021-12-12'\n",
    "\n",
    "crawler = Crawler(from_date = from_date, to_date = to_date) \n",
    "crawler.run(ticker_list) \n"
   ]
  },
  {
   "cell_type": "markdown",
   "metadata": {},
   "source": [
    "### 2. Data preprocessing"
   ]
  },
  {
   "cell_type": "code",
   "execution_count": null,
   "metadata": {},
   "outputs": [],
   "source": [
    "from lib.preprocess import Prep\n",
    "\n",
    "# Params\n",
    "dataset_name = 'tutorial'\n",
    "scaling_mode = 'plain'\n",
    "scaling_price = 'Open'\n",
    "scaling_amount = 'Lvolume'\n",
    "long_period = 100\n",
    "mid_period = 45\n",
    "short_period = 10\n",
    "test_size = 0.1\n",
    "valid_size = 0.2\n",
    "random_seed = 42\n",
    "\n",
    "proc = Prep(\n",
    "    scaling_mode = scaling_mode, \n",
    "    scaling_price = scaling_price,\n",
    "    scaling_amount=scaling_amount ,  \n",
    "    long_period=long_period ,  \n",
    "    mid_period= mid_period,  \n",
    "    short_period= short_period,  \n",
    "    test_size=test_size ,  \n",
    "    valid_size=valid_size ,  \n",
    "    random_seed = random_seed \n",
    ") \n",
    "proc.run()\n"
   ]
  },
  {
   "cell_type": "markdown",
   "metadata": {},
   "source": [
    "### 3. model training "
   ]
  },
  {
   "cell_type": "code",
   "execution_count": null,
   "metadata": {},
   "outputs": [],
   "source": [
    "# Modules \n",
    "from src.lgbm import LGBM\n",
    "\n",
    "random_seed  = 17\n",
    "n_trials  = 100 \n",
    "n_batch  = 100 \n",
    "metric  = 'mae'\n",
    "run_name = None\n",
    "\n",
    "gbm = LGBM(\n",
    "    n_trials  = n_trials,  \n",
    "    n_batch  = n_batch, \n",
    "    metric  = metric, \n",
    "    random_seed  = random_seed, \n",
    ") \n",
    "\n",
    "\n",
    "gbm.tune() # run_name으로 저장\n"
   ]
  },
  {
   "cell_type": "markdown",
   "metadata": {},
   "source": [
    "## 4. Model predict"
   ]
  },
  {
   "cell_type": "code",
   "execution_count": null,
   "metadata": {},
   "outputs": [],
   "source": [
    "#TODO. model run name으로 불러와서 "
   ]
  },
  {
   "cell_type": "markdown",
   "metadata": {},
   "source": [
    "## 5. Display"
   ]
  },
  {
   "cell_type": "code",
   "execution_count": null,
   "metadata": {},
   "outputs": [],
   "source": []
  }
 ],
 "metadata": {
  "interpreter": {
   "hash": "aee8b7b246df8f9039afb4144a1f6fd8d2ca17a180786b69acc140d282b71a49"
  },
  "kernelspec": {
   "display_name": "Python 3.9.5 64-bit",
   "language": "python",
   "name": "python3"
  },
  "language_info": {
   "codemirror_mode": {
    "name": "ipython",
    "version": 3
   },
   "file_extension": ".py",
   "mimetype": "text/x-python",
   "name": "python",
   "nbconvert_exporter": "python",
   "pygments_lexer": "ipython3",
   "version": "3.8.8"
  },
  "orig_nbformat": 4
 },
 "nbformat": 4,
 "nbformat_minor": 2
}
