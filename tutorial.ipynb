{
 "cells": [
  {
   "cell_type": "markdown",
   "metadata": {},
   "source": [
    "# MARS pjt tutorial "
   ]
  },
  {
   "cell_type": "code",
   "execution_count": 1,
   "metadata": {},
   "outputs": [],
   "source": [
    "# Auto reloading \n",
    "%load_ext autoreload \n",
    "%autoreload 2"
   ]
  },
  {
   "cell_type": "markdown",
   "metadata": {},
   "source": [
    "## 1. Data crawling"
   ]
  },
  {
   "cell_type": "code",
   "execution_count": 2,
   "metadata": {},
   "outputs": [],
   "source": [
    "from lib import Crawler\n",
    "if False: \n",
    "    ticker_list = [\n",
    "        'QQQ', 'UVXY', 'XOP', 'IEF', 'SHY'\n",
    "    ] \n",
    "    from_date = '2001-01-01' \n",
    "    to_date = '2021-12-12'\n",
    "\n",
    "    crawler = Crawler(from_date = from_date) \n",
    "    crawler.run_etf(ticker_list) \n"
   ]
  },
  {
   "cell_type": "markdown",
   "metadata": {},
   "source": [
    "### 2. Data preprocessing"
   ]
  },
  {
   "cell_type": "code",
   "execution_count": 3,
   "metadata": {},
   "outputs": [
    {
     "name": "stdout",
     "output_type": "stream",
     "text": [
      "\u001b[32mdatasets saved at ./data/tutorial\u001b[0m\n",
      "\u001b[32m# of train sample : 1959\u001b[0m\n",
      "\u001b[32m# of valid sample : 490\u001b[0m\n",
      "\u001b[32m# of test sample : 273\u001b[0m\n"
     ]
    }
   ],
   "source": [
    "from lib import Prep\n",
    "\n",
    "# Params\n",
    "dataset_name = 'tutorial'\n",
    "target_period = 5 \n",
    "scaling_price = 'Close'\n",
    "scaling_amount = 'Lvolume'\n",
    "long_period = 100\n",
    "mid_period = 45\n",
    "short_period = 10\n",
    "test_size = 0.1\n",
    "valid_size = 0.2\n",
    "random_seed = 42\n",
    "\n",
    "proc = Prep( \n",
    "    dataset_name = dataset_name, \n",
    "    target_period = target_period, \n",
    "    scaling_price = scaling_price,\n",
    "    scaling_amount=scaling_amount ,  \n",
    "    long_period=long_period ,  \n",
    "    mid_period= mid_period,  \n",
    "    short_period= short_period,  \n",
    "    test_size=test_size ,  \n",
    "    valid_size=valid_size ,  \n",
    "    random_seed = random_seed \n",
    ") \n",
    "proc.run()\n"
   ]
  },
  {
   "cell_type": "code",
   "execution_count": 4,
   "metadata": {},
   "outputs": [
    {
     "data": {
      "text/plain": [
       "['tutorial']"
      ]
     },
     "execution_count": 4,
     "metadata": {},
     "output_type": "execute_result"
    }
   ],
   "source": [
    "from lib import StockDataFrame\n",
    "dg = StockDataFrame()\n",
    "dg.list_datagroup()"
   ]
  },
  {
   "cell_type": "code",
   "execution_count": 5,
   "metadata": {},
   "outputs": [
    {
     "name": "stdout",
     "output_type": "stream",
     "text": [
      "\u001b[32mdataset is loaded from ./data/tutorial\u001b[0m\n",
      "Data group \"tutorial\" Spec.\n",
      "___________________\n",
      "\u001b[32mycol\u001b[0m\n",
      "\u001b[34m['label|IEF', 'label|QQQ', 'label|GLD', 'label|SHY', 'label|UVXY', 'label|XOP']\u001b[0m\n",
      "\u001b[32mxcol\u001b[0m\n",
      "\u001b[34m['num|Open_IEF', 'num|High_IEF', 'num|Low_IEF', 'num|Adj Close_IEF', 'num|Volume_IEF', 'num|Lhigh_IEF', 'num|Llow_IEF', 'num|Lmean_IEF', 'num|Mhigh_IEF', 'num|Mlow_IEF', 'num|Mmean_IEF', 'num|Shigh_IEF', 'num|Slow_IEF', 'num|Smean_IEF', 'num|Mvolume_IEF', 'num|Svolume_IEF', 'num|Open_QQQ', 'num|High_QQQ', 'num|Low_QQQ', 'num|Adj Close_QQQ', 'num|Volume_QQQ', 'num|Lhigh_QQQ', 'num|Llow_QQQ', 'num|Lmean_QQQ', 'num|Mhigh_QQQ', 'num|Mlow_QQQ', 'num|Mmean_QQQ', 'num|Shigh_QQQ', 'num|Slow_QQQ', 'num|Smean_QQQ', 'num|Mvolume_QQQ', 'num|Svolume_QQQ', 'num|Open_GLD', 'num|High_GLD', 'num|Low_GLD', 'num|Adj Close_GLD', 'num|Volume_GLD', 'num|Lhigh_GLD', 'num|Llow_GLD', 'num|Lmean_GLD', 'num|Mhigh_GLD', 'num|Mlow_GLD', 'num|Mmean_GLD', 'num|Shigh_GLD', 'num|Slow_GLD', 'num|Smean_GLD', 'num|Mvolume_GLD', 'num|Svolume_GLD', 'num|Open_SHY', 'num|High_SHY', 'num|Low_SHY', 'num|Adj Close_SHY', 'num|Volume_SHY', 'num|Lhigh_SHY', 'num|Llow_SHY', 'num|Lmean_SHY', 'num|Mhigh_SHY', 'num|Mlow_SHY', 'num|Mmean_SHY', 'num|Shigh_SHY', 'num|Slow_SHY', 'num|Smean_SHY', 'num|Mvolume_SHY', 'num|Svolume_SHY', 'num|Open_UVXY', 'num|High_UVXY', 'num|Low_UVXY', 'num|Adj Close_UVXY', 'num|Volume_UVXY', 'num|Lhigh_UVXY', 'num|Llow_UVXY', 'num|Lmean_UVXY', 'num|Mhigh_UVXY', 'num|Mlow_UVXY', 'num|Mmean_UVXY', 'num|Shigh_UVXY', 'num|Slow_UVXY', 'num|Smean_UVXY', 'num|Mvolume_UVXY', 'num|Svolume_UVXY', 'num|Open_XOP', 'num|High_XOP', 'num|Low_XOP', 'num|Adj Close_XOP', 'num|Volume_XOP', 'num|Lhigh_XOP', 'num|Llow_XOP', 'num|Lmean_XOP', 'num|Mhigh_XOP', 'num|Mlow_XOP', 'num|Mmean_XOP', 'num|Shigh_XOP', 'num|Slow_XOP', 'num|Smean_XOP', 'num|Mvolume_XOP', 'num|Svolume_XOP', 'cat|day', 'cat|month']\u001b[0m\n",
      "\u001b[32mnumcol\u001b[0m\n",
      "\u001b[34m['num|Open_IEF', 'num|High_IEF', 'num|Low_IEF', 'num|Adj Close_IEF', 'num|Volume_IEF', 'num|Lhigh_IEF', 'num|Llow_IEF', 'num|Lmean_IEF', 'num|Mhigh_IEF', 'num|Mlow_IEF', 'num|Mmean_IEF', 'num|Shigh_IEF', 'num|Slow_IEF', 'num|Smean_IEF', 'num|Mvolume_IEF', 'num|Svolume_IEF', 'num|Open_QQQ', 'num|High_QQQ', 'num|Low_QQQ', 'num|Adj Close_QQQ', 'num|Volume_QQQ', 'num|Lhigh_QQQ', 'num|Llow_QQQ', 'num|Lmean_QQQ', 'num|Mhigh_QQQ', 'num|Mlow_QQQ', 'num|Mmean_QQQ', 'num|Shigh_QQQ', 'num|Slow_QQQ', 'num|Smean_QQQ', 'num|Mvolume_QQQ', 'num|Svolume_QQQ', 'num|Open_GLD', 'num|High_GLD', 'num|Low_GLD', 'num|Adj Close_GLD', 'num|Volume_GLD', 'num|Lhigh_GLD', 'num|Llow_GLD', 'num|Lmean_GLD', 'num|Mhigh_GLD', 'num|Mlow_GLD', 'num|Mmean_GLD', 'num|Shigh_GLD', 'num|Slow_GLD', 'num|Smean_GLD', 'num|Mvolume_GLD', 'num|Svolume_GLD', 'num|Open_SHY', 'num|High_SHY', 'num|Low_SHY', 'num|Adj Close_SHY', 'num|Volume_SHY', 'num|Lhigh_SHY', 'num|Llow_SHY', 'num|Lmean_SHY', 'num|Mhigh_SHY', 'num|Mlow_SHY', 'num|Mmean_SHY', 'num|Shigh_SHY', 'num|Slow_SHY', 'num|Smean_SHY', 'num|Mvolume_SHY', 'num|Svolume_SHY', 'num|Open_UVXY', 'num|High_UVXY', 'num|Low_UVXY', 'num|Adj Close_UVXY', 'num|Volume_UVXY', 'num|Lhigh_UVXY', 'num|Llow_UVXY', 'num|Lmean_UVXY', 'num|Mhigh_UVXY', 'num|Mlow_UVXY', 'num|Mmean_UVXY', 'num|Shigh_UVXY', 'num|Slow_UVXY', 'num|Smean_UVXY', 'num|Mvolume_UVXY', 'num|Svolume_UVXY', 'num|Open_XOP', 'num|High_XOP', 'num|Low_XOP', 'num|Adj Close_XOP', 'num|Volume_XOP', 'num|Lhigh_XOP', 'num|Llow_XOP', 'num|Lmean_XOP', 'num|Mhigh_XOP', 'num|Mlow_XOP', 'num|Mmean_XOP', 'num|Shigh_XOP', 'num|Slow_XOP', 'num|Smean_XOP', 'num|Mvolume_XOP', 'num|Svolume_XOP']\u001b[0m\n",
      "\u001b[32mcatcol\u001b[0m\n",
      "\u001b[34m['cat|day', 'cat|month']\u001b[0m\n",
      "\u001b[32mtarget_period\u001b[0m\n",
      "\u001b[34m5\u001b[0m\n",
      "\u001b[32mscaling_price \u001b[0m\n",
      "\u001b[34mClose\u001b[0m\n",
      "\u001b[32mscaling_amount\u001b[0m\n",
      "\u001b[34mLvolume\u001b[0m\n",
      "\u001b[32mlong_period\u001b[0m\n",
      "\u001b[34m100\u001b[0m\n",
      "\u001b[32mmid_period\u001b[0m\n",
      "\u001b[34m45\u001b[0m\n",
      "\u001b[32mshort_period\u001b[0m\n",
      "\u001b[34m10\u001b[0m\n",
      "\u001b[32mtest_size\u001b[0m\n",
      "\u001b[34m0.1\u001b[0m\n",
      "\u001b[32mvalid_size\u001b[0m\n",
      "\u001b[34m0.2\u001b[0m\n",
      "\u001b[32mrandom_seed\u001b[0m\n",
      "\u001b[34m42\u001b[0m\n"
     ]
    },
    {
     "data": {
      "text/plain": [
       "_________________________"
      ]
     },
     "execution_count": 5,
     "metadata": {},
     "output_type": "execute_result"
    }
   ],
   "source": [
    "dg.load_datagroup('tutorial')\n",
    "dg"
   ]
  },
  {
   "cell_type": "code",
   "execution_count": 6,
   "metadata": {},
   "outputs": [
    {
     "data": {
      "text/plain": [
       "{'train': {'label|IEF': <lightgbm.basic.Dataset at 0x15a9a6190>,\n",
       "  'label|QQQ': <lightgbm.basic.Dataset at 0x15a9addf0>,\n",
       "  'label|GLD': <lightgbm.basic.Dataset at 0x15a9adb80>,\n",
       "  'label|SHY': <lightgbm.basic.Dataset at 0x15a9ad8b0>,\n",
       "  'label|UVXY': <lightgbm.basic.Dataset at 0x15a9ad610>,\n",
       "  'label|XOP': <lightgbm.basic.Dataset at 0x15a9ad370>},\n",
       " 'valid': {'label|IEF': <lightgbm.basic.Dataset at 0x15a9ad070>,\n",
       "  'label|QQQ': <lightgbm.basic.Dataset at 0x1476b9c40>,\n",
       "  'label|GLD': <lightgbm.basic.Dataset at 0x15a9b4b80>,\n",
       "  'label|SHY': <lightgbm.basic.Dataset at 0x15a9b48e0>,\n",
       "  'label|UVXY': <lightgbm.basic.Dataset at 0x15a9b4640>,\n",
       "  'label|XOP': <lightgbm.basic.Dataset at 0x15a9b43a0>},\n",
       " 'test': {'label|IEF': <lightgbm.basic.Dataset at 0x15a9b40a0>,\n",
       "  'label|QQQ': <lightgbm.basic.Dataset at 0x15a9b9dc0>,\n",
       "  'label|GLD': <lightgbm.basic.Dataset at 0x15a9b9b20>,\n",
       "  'label|SHY': <lightgbm.basic.Dataset at 0x15a9b9880>,\n",
       "  'label|UVXY': <lightgbm.basic.Dataset at 0x15a9b95e0>,\n",
       "  'label|XOP': <lightgbm.basic.Dataset at 0x15a9b9340>}}"
      ]
     },
     "execution_count": 6,
     "metadata": {},
     "output_type": "execute_result"
    }
   ],
   "source": [
    "dg.to_lgbm() \n",
    "dg.lgbm_datagroup"
   ]
  },
  {
   "cell_type": "markdown",
   "metadata": {},
   "source": [
    "## 3. Model training "
   ]
  },
  {
   "cell_type": "code",
   "execution_count": 7,
   "metadata": {},
   "outputs": [
    {
     "name": "stdout",
     "output_type": "stream",
     "text": [
      "Instance test_instance Spec.\n",
      "_____________________\n",
      "\u001b[32mis trained?: False\u001b[0m\n",
      "\u001b[32mis tuned?: False\u001b[0m\n",
      "\u001b[32mdatagroup name: \u001b[0m\n",
      "\u001b[34mparams: None\u001b[0m\n"
     ]
    },
    {
     "data": {
      "text/plain": [
       "______________________"
      ]
     },
     "execution_count": 7,
     "metadata": {},
     "output_type": "execute_result"
    }
   ],
   "source": [
    "from lib import LgbmTrainInstance\n",
    "instance = LgbmTrainInstance(instance_name= 'test_instance') \n",
    "instance"
   ]
  },
  {
   "cell_type": "code",
   "execution_count": 8,
   "metadata": {},
   "outputs": [
    {
     "name": "stdout",
     "output_type": "stream",
     "text": [
      "[LightGBM] [Warning] Found whitespace in feature_names, replace with underlines\n",
      "[LightGBM] [Warning] Auto-choosing col-wise multi-threading, the overhead of testing was 0.001067 seconds.\n",
      "You can set `force_col_wise=true` to remove the overhead.\n",
      "[LightGBM] [Info] Total Bins 23988\n",
      "[LightGBM] [Info] Number of data points in the train set: 1959, number of used features: 96\n",
      "[LightGBM] [Warning] Found whitespace in feature_names, replace with underlines\n",
      "[LightGBM] [Info] Start training from score 1.000081\n",
      "Training until validation scores don't improve for 300 rounds\n",
      "[100]\tvalid_0's l1: 0.00327833\n",
      "[200]\tvalid_0's l1: 0.00314041\n",
      "[300]\tvalid_0's l1: 0.00304484\n",
      "[400]\tvalid_0's l1: 0.0029813\n",
      "[500]\tvalid_0's l1: 0.00293112\n",
      "[600]\tvalid_0's l1: 0.00289992\n",
      "[700]\tvalid_0's l1: 0.00287722\n",
      "[800]\tvalid_0's l1: 0.00286542\n",
      "[900]\tvalid_0's l1: 0.00286226\n",
      "[1000]\tvalid_0's l1: 0.00285129\n",
      "[1100]\tvalid_0's l1: 0.00283936\n",
      "[1200]\tvalid_0's l1: 0.00282876\n",
      "[1300]\tvalid_0's l1: 0.00282003\n",
      "[1400]\tvalid_0's l1: 0.00281439\n",
      "[1500]\tvalid_0's l1: 0.00281295\n",
      "[1600]\tvalid_0's l1: 0.00281106\n",
      "[1700]\tvalid_0's l1: 0.0028111\n",
      "[1800]\tvalid_0's l1: 0.00281172\n",
      "[1900]\tvalid_0's l1: 0.00281051\n",
      "[2000]\tvalid_0's l1: 0.00281039\n",
      "[2100]\tvalid_0's l1: 0.00281087\n",
      "[2200]\tvalid_0's l1: 0.00281002\n",
      "[2300]\tvalid_0's l1: 0.00281114\n",
      "[2400]\tvalid_0's l1: 0.00281135\n",
      "[2500]\tvalid_0's l1: 0.00281059\n",
      "Early stopping, best iteration is:\n",
      "[2223]\tvalid_0's l1: 0.00280941\n",
      "[LightGBM] [Warning] Found whitespace in feature_names, replace with underlines\n",
      "[LightGBM] [Warning] Auto-choosing col-wise multi-threading, the overhead of testing was 0.001055 seconds.\n",
      "You can set `force_col_wise=true` to remove the overhead.\n",
      "[LightGBM] [Info] Total Bins 23988\n",
      "[LightGBM] [Info] Number of data points in the train set: 1959, number of used features: 96\n",
      "[LightGBM] [Warning] Found whitespace in feature_names, replace with underlines\n",
      "[LightGBM] [Info] Start training from score 1.002437\n",
      "[100]\tvalid_0's l1: 0.0101826\n",
      "[200]\tvalid_0's l1: 0.00953177\n",
      "[300]\tvalid_0's l1: 0.00924927\n",
      "[400]\tvalid_0's l1: 0.00899335\n",
      "[500]\tvalid_0's l1: 0.00886581\n",
      "[600]\tvalid_0's l1: 0.00869168\n",
      "[700]\tvalid_0's l1: 0.00861896\n",
      "[800]\tvalid_0's l1: 0.0085509\n",
      "[900]\tvalid_0's l1: 0.0084713\n",
      "[1000]\tvalid_0's l1: 0.00840098\n",
      "[1100]\tvalid_0's l1: 0.00834419\n",
      "[1200]\tvalid_0's l1: 0.00833091\n",
      "[1300]\tvalid_0's l1: 0.00830593\n",
      "[1400]\tvalid_0's l1: 0.00828107\n",
      "[1500]\tvalid_0's l1: 0.00826139\n",
      "[1600]\tvalid_0's l1: 0.00823614\n",
      "[1700]\tvalid_0's l1: 0.00821899\n",
      "[1800]\tvalid_0's l1: 0.00821392\n",
      "[1900]\tvalid_0's l1: 0.00821122\n",
      "[2000]\tvalid_0's l1: 0.00820319\n",
      "[2100]\tvalid_0's l1: 0.00819442\n",
      "[2200]\tvalid_0's l1: 0.00818901\n",
      "[2300]\tvalid_0's l1: 0.00818562\n",
      "[2400]\tvalid_0's l1: 0.00818354\n",
      "[2500]\tvalid_0's l1: 0.00818102\n",
      "Early stopping, best iteration is:\n",
      "[2223]\tvalid_0's l1: 0.00280941\n",
      "[LightGBM] [Warning] Found whitespace in feature_names, replace with underlines\n",
      "[LightGBM] [Warning] Auto-choosing col-wise multi-threading, the overhead of testing was 0.001015 seconds.\n",
      "You can set `force_col_wise=true` to remove the overhead.\n",
      "[LightGBM] [Info] Total Bins 23988\n",
      "[LightGBM] [Info] Number of data points in the train set: 1959, number of used features: 96\n",
      "[LightGBM] [Warning] Found whitespace in feature_names, replace with underlines\n",
      "[LightGBM] [Info] Start training from score 1.000104\n",
      "[100]\tvalid_0's l1: 0.00898693\n",
      "[200]\tvalid_0's l1: 0.00847566\n",
      "[300]\tvalid_0's l1: 0.00816465\n",
      "[400]\tvalid_0's l1: 0.00791173\n",
      "[500]\tvalid_0's l1: 0.00780939\n",
      "[600]\tvalid_0's l1: 0.00771453\n",
      "[700]\tvalid_0's l1: 0.0076297\n",
      "[800]\tvalid_0's l1: 0.00759014\n",
      "[900]\tvalid_0's l1: 0.00753509\n",
      "[1000]\tvalid_0's l1: 0.00751126\n",
      "[1100]\tvalid_0's l1: 0.00749163\n",
      "[1200]\tvalid_0's l1: 0.00745069\n",
      "[1300]\tvalid_0's l1: 0.00743544\n",
      "[1400]\tvalid_0's l1: 0.00742063\n",
      "[1500]\tvalid_0's l1: 0.00741175\n",
      "[1600]\tvalid_0's l1: 0.0074089\n",
      "[1700]\tvalid_0's l1: 0.0074026\n",
      "[1800]\tvalid_0's l1: 0.00739623\n",
      "[1900]\tvalid_0's l1: 0.00739468\n",
      "[2000]\tvalid_0's l1: 0.00739221\n",
      "[2100]\tvalid_0's l1: 0.00738459\n",
      "[2200]\tvalid_0's l1: 0.00738513\n",
      "[2300]\tvalid_0's l1: 0.00738409\n",
      "[2400]\tvalid_0's l1: 0.00737947\n",
      "[2500]\tvalid_0's l1: 0.00737883\n",
      "Early stopping, best iteration is:\n",
      "[2223]\tvalid_0's l1: 0.00280941\n",
      "[LightGBM] [Warning] Found whitespace in feature_names, replace with underlines\n",
      "[LightGBM] [Warning] Auto-choosing col-wise multi-threading, the overhead of testing was 0.001177 seconds.\n",
      "You can set `force_col_wise=true` to remove the overhead.\n",
      "[LightGBM] [Info] Total Bins 23988\n",
      "[LightGBM] [Info] Number of data points in the train set: 1959, number of used features: 96\n",
      "[LightGBM] [Warning] Found whitespace in feature_names, replace with underlines\n",
      "[LightGBM] [Info] Start training from score 1.000015\n",
      "[100]\tvalid_0's l1: 0.00046886\n",
      "[200]\tvalid_0's l1: 0.000447571\n",
      "[300]\tvalid_0's l1: 0.000436755\n",
      "[400]\tvalid_0's l1: 0.000426151\n",
      "[500]\tvalid_0's l1: 0.000418647\n",
      "[600]\tvalid_0's l1: 0.00041527\n",
      "[700]\tvalid_0's l1: 0.000411303\n",
      "[800]\tvalid_0's l1: 0.000409216\n",
      "[900]\tvalid_0's l1: 0.000407643\n",
      "[1000]\tvalid_0's l1: 0.00040622\n",
      "[1100]\tvalid_0's l1: 0.000404348\n",
      "[1200]\tvalid_0's l1: 0.000403343\n",
      "[1300]\tvalid_0's l1: 0.000402599\n",
      "[1400]\tvalid_0's l1: 0.000402685\n",
      "[1500]\tvalid_0's l1: 0.000401952\n",
      "[1600]\tvalid_0's l1: 0.000401121\n",
      "[1700]\tvalid_0's l1: 0.00040104\n",
      "[1800]\tvalid_0's l1: 0.000400854\n",
      "[1900]\tvalid_0's l1: 0.000400938\n",
      "[2000]\tvalid_0's l1: 0.000400781\n",
      "[2100]\tvalid_0's l1: 0.000400494\n",
      "[2200]\tvalid_0's l1: 0.000400243\n",
      "[2300]\tvalid_0's l1: 0.000400205\n",
      "[2400]\tvalid_0's l1: 0.000400026\n",
      "[2500]\tvalid_0's l1: 0.000400023\n",
      "[2600]\tvalid_0's l1: 0.000399881\n",
      "[2700]\tvalid_0's l1: 0.000399694\n",
      "[2800]\tvalid_0's l1: 0.000399621\n",
      "[2900]\tvalid_0's l1: 0.000399589\n",
      "[3000]\tvalid_0's l1: 0.000399594\n",
      "[3100]\tvalid_0's l1: 0.000399554\n",
      "[3200]\tvalid_0's l1: 0.00039946\n",
      "[3300]\tvalid_0's l1: 0.000399403\n",
      "[3400]\tvalid_0's l1: 0.000399316\n",
      "[3500]\tvalid_0's l1: 0.000399273\n",
      "[3600]\tvalid_0's l1: 0.000399194\n",
      "[3700]\tvalid_0's l1: 0.000399132\n",
      "[3800]\tvalid_0's l1: 0.00039908\n",
      "[3900]\tvalid_0's l1: 0.000399065\n",
      "[4000]\tvalid_0's l1: 0.000399029\n",
      "[4100]\tvalid_0's l1: 0.00039902\n",
      "[4200]\tvalid_0's l1: 0.000399013\n",
      "[4300]\tvalid_0's l1: 0.000399023\n",
      "[4400]\tvalid_0's l1: 0.000399006\n",
      "[4500]\tvalid_0's l1: 0.000398991\n",
      "[4600]\tvalid_0's l1: 0.000398981\n",
      "[4700]\tvalid_0's l1: 0.00039898\n",
      "[4800]\tvalid_0's l1: 0.000398966\n",
      "[4900]\tvalid_0's l1: 0.000398965\n",
      "[5000]\tvalid_0's l1: 0.000398953\n",
      "[5100]\tvalid_0's l1: 0.00039896\n",
      "[5200]\tvalid_0's l1: 0.000398959\n",
      "[5300]\tvalid_0's l1: 0.000398956\n",
      "Early stopping, best iteration is:\n",
      "[5006]\tvalid_0's l1: 0.000398952\n",
      "[LightGBM] [Warning] Found whitespace in feature_names, replace with underlines\n",
      "[LightGBM] [Warning] Auto-choosing col-wise multi-threading, the overhead of testing was 0.000891 seconds.\n",
      "You can set `force_col_wise=true` to remove the overhead.\n",
      "[LightGBM] [Info] Total Bins 23988\n",
      "[LightGBM] [Info] Number of data points in the train set: 1959, number of used features: 96\n",
      "[LightGBM] [Warning] Found whitespace in feature_names, replace with underlines\n",
      "[LightGBM] [Info] Start training from score 0.987386\n",
      "[100]\tvalid_0's l1: 0.0699723\n",
      "[200]\tvalid_0's l1: 0.0664729\n",
      "[300]\tvalid_0's l1: 0.063766\n",
      "[400]\tvalid_0's l1: 0.0623604\n",
      "[500]\tvalid_0's l1: 0.0612085\n",
      "[600]\tvalid_0's l1: 0.0605227\n",
      "[700]\tvalid_0's l1: 0.0599652\n",
      "[800]\tvalid_0's l1: 0.0593908\n",
      "[900]\tvalid_0's l1: 0.0590067\n",
      "[1000]\tvalid_0's l1: 0.0587443\n",
      "[1100]\tvalid_0's l1: 0.0585637\n",
      "[1200]\tvalid_0's l1: 0.0585047\n",
      "[1300]\tvalid_0's l1: 0.0584405\n",
      "[1400]\tvalid_0's l1: 0.0584004\n",
      "[1500]\tvalid_0's l1: 0.0583772\n",
      "[1600]\tvalid_0's l1: 0.0583226\n",
      "[1700]\tvalid_0's l1: 0.0582661\n",
      "[1800]\tvalid_0's l1: 0.0582404\n",
      "[1900]\tvalid_0's l1: 0.0581653\n",
      "[2000]\tvalid_0's l1: 0.0580831\n",
      "[2100]\tvalid_0's l1: 0.0580733\n",
      "[2200]\tvalid_0's l1: 0.0580261\n",
      "[2300]\tvalid_0's l1: 0.0579911\n",
      "[2400]\tvalid_0's l1: 0.0579682\n",
      "[2500]\tvalid_0's l1: 0.0579499\n",
      "[2600]\tvalid_0's l1: 0.0579373\n",
      "[2700]\tvalid_0's l1: 0.0579408\n",
      "[2800]\tvalid_0's l1: 0.0579441\n",
      "[2900]\tvalid_0's l1: 0.0579333\n",
      "[3000]\tvalid_0's l1: 0.0579272\n",
      "[3100]\tvalid_0's l1: 0.0579179\n",
      "[3200]\tvalid_0's l1: 0.0579126\n",
      "[3300]\tvalid_0's l1: 0.0579117\n",
      "[3400]\tvalid_0's l1: 0.0579109\n",
      "[3500]\tvalid_0's l1: 0.0579115\n",
      "[3600]\tvalid_0's l1: 0.0579093\n",
      "[3700]\tvalid_0's l1: 0.0579088\n",
      "[3800]\tvalid_0's l1: 0.057905\n",
      "[3900]\tvalid_0's l1: 0.0579032\n",
      "[4000]\tvalid_0's l1: 0.0579052\n",
      "[4100]\tvalid_0's l1: 0.0579036\n",
      "[4200]\tvalid_0's l1: 0.0579035\n",
      "[4300]\tvalid_0's l1: 0.0579034\n",
      "[4400]\tvalid_0's l1: 0.0579036\n",
      "[4500]\tvalid_0's l1: 0.0579045\n",
      "[4600]\tvalid_0's l1: 0.0579023\n",
      "[4700]\tvalid_0's l1: 0.0579027\n",
      "[4800]\tvalid_0's l1: 0.0579024\n",
      "[4900]\tvalid_0's l1: 0.0579021\n",
      "[5000]\tvalid_0's l1: 0.0579007\n",
      "[5100]\tvalid_0's l1: 0.0579\n",
      "[5200]\tvalid_0's l1: 0.0578995\n",
      "[5300]\tvalid_0's l1: 0.0578996\n",
      "Early stopping, best iteration is:\n",
      "[5006]\tvalid_0's l1: 0.000398952\n",
      "[LightGBM] [Warning] Found whitespace in feature_names, replace with underlines\n",
      "[LightGBM] [Warning] Auto-choosing col-wise multi-threading, the overhead of testing was 0.000981 seconds.\n",
      "You can set `force_col_wise=true` to remove the overhead.\n",
      "[LightGBM] [Info] Total Bins 23988\n",
      "[LightGBM] [Info] Number of data points in the train set: 1959, number of used features: 96\n",
      "[LightGBM] [Warning] Found whitespace in feature_names, replace with underlines\n",
      "[LightGBM] [Info] Start training from score 1.000348\n",
      "[100]\tvalid_0's l1: 0.0234824\n",
      "[200]\tvalid_0's l1: 0.0220959\n",
      "[300]\tvalid_0's l1: 0.0212393\n",
      "[400]\tvalid_0's l1: 0.0209544\n",
      "[500]\tvalid_0's l1: 0.0206418\n",
      "[600]\tvalid_0's l1: 0.0203957\n",
      "[700]\tvalid_0's l1: 0.0202037\n",
      "[800]\tvalid_0's l1: 0.0200738\n",
      "[900]\tvalid_0's l1: 0.0200011\n",
      "[1000]\tvalid_0's l1: 0.0199171\n",
      "[1100]\tvalid_0's l1: 0.0198612\n",
      "[1200]\tvalid_0's l1: 0.0197951\n",
      "[1300]\tvalid_0's l1: 0.0197559\n",
      "[1400]\tvalid_0's l1: 0.0197233\n",
      "[1500]\tvalid_0's l1: 0.0197084\n",
      "[1600]\tvalid_0's l1: 0.0197156\n",
      "[1700]\tvalid_0's l1: 0.0196895\n",
      "[1800]\tvalid_0's l1: 0.0196985\n",
      "[1900]\tvalid_0's l1: 0.0196959\n",
      "[2000]\tvalid_0's l1: 0.0196809\n",
      "[2100]\tvalid_0's l1: 0.0196639\n",
      "[2200]\tvalid_0's l1: 0.0196578\n",
      "[2300]\tvalid_0's l1: 0.0196496\n",
      "[2400]\tvalid_0's l1: 0.0196404\n",
      "[2500]\tvalid_0's l1: 0.0196336\n",
      "[2600]\tvalid_0's l1: 0.0196237\n",
      "[2700]\tvalid_0's l1: 0.0196138\n",
      "[2800]\tvalid_0's l1: 0.0196057\n",
      "[2900]\tvalid_0's l1: 0.0195994\n",
      "[3000]\tvalid_0's l1: 0.0195986\n",
      "[3100]\tvalid_0's l1: 0.0195968\n",
      "[3200]\tvalid_0's l1: 0.0195966\n",
      "[3300]\tvalid_0's l1: 0.0195941\n",
      "[3400]\tvalid_0's l1: 0.0195908\n",
      "[3500]\tvalid_0's l1: 0.0195885\n",
      "[3600]\tvalid_0's l1: 0.0195875\n",
      "[3700]\tvalid_0's l1: 0.019585\n",
      "[3800]\tvalid_0's l1: 0.0195849\n",
      "[3900]\tvalid_0's l1: 0.0195855\n",
      "[4000]\tvalid_0's l1: 0.019585\n",
      "[4100]\tvalid_0's l1: 0.019585\n",
      "[4200]\tvalid_0's l1: 0.0195859\n",
      "[4300]\tvalid_0's l1: 0.0195852\n",
      "[4400]\tvalid_0's l1: 0.0195854\n",
      "[4500]\tvalid_0's l1: 0.0195839\n",
      "[4600]\tvalid_0's l1: 0.0195841\n",
      "[4700]\tvalid_0's l1: 0.0195834\n",
      "[4800]\tvalid_0's l1: 0.0195837\n",
      "[4900]\tvalid_0's l1: 0.0195836\n",
      "[5000]\tvalid_0's l1: 0.0195834\n",
      "[5100]\tvalid_0's l1: 0.0195833\n",
      "[5200]\tvalid_0's l1: 0.0195834\n",
      "[5300]\tvalid_0's l1: 0.0195832\n",
      "Early stopping, best iteration is:\n",
      "[5006]\tvalid_0's l1: 0.000398952\n",
      "Instance test_instance Spec.\n",
      "_____________________\n",
      "\u001b[32mis trained?: True\u001b[0m\n",
      "\u001b[32mis tuned?: False\u001b[0m\n",
      "\u001b[32mdatagroup name: tutorial\u001b[0m\n",
      "\u001b[34mparams: {'boosting_type': 'gbdt', 'n_estimators': 10000, 'max_depth': 8, 'num_leaves': 6, 'random_state': 17, 'metric': 'mae'}\u001b[0m\n"
     ]
    },
    {
     "data": {
      "text/plain": [
       "______________________"
      ]
     },
     "execution_count": 8,
     "metadata": {},
     "output_type": "execute_result"
    }
   ],
   "source": [
    "# train instance \n",
    "params = {\n",
    "    'boosting_type' : 'gbdt',\n",
    "    \"n_estimators\" : 10000,\n",
    "    'max_depth': 8, \n",
    "    'num_leaves': 6, \n",
    "    'random_state': 17,\n",
    "    'metric': 'mae', \n",
    "}\n",
    "instance.train(dg , **params)"
   ]
  },
  {
   "cell_type": "code",
   "execution_count": 9,
   "metadata": {},
   "outputs": [
    {
     "name": "stdout",
     "output_type": "stream",
     "text": [
      "Instance test_instance Spec.\n",
      "_____________________\n",
      "\u001b[32mis trained?: True\u001b[0m\n",
      "\u001b[32mis tuned?: False\u001b[0m\n",
      "\u001b[32mdatagroup name: tutorial\u001b[0m\n",
      "\u001b[34mparams: {'boosting_type': 'gbdt', 'n_estimators': 10000, 'max_depth': 8, 'num_leaves': 6, 'random_state': 17, 'metric': 'mae'}\u001b[0m\n"
     ]
    }
   ],
   "source": [
    "# Save instance \n",
    "instance.save_instance() "
   ]
  },
  {
   "cell_type": "code",
   "execution_count": 14,
   "metadata": {},
   "outputs": [
    {
     "name": "stdout",
     "output_type": "stream",
     "text": [
      "Instance test_instance Spec.\n",
      "_____________________\n",
      "\u001b[32mis trained?: True\u001b[0m\n",
      "\u001b[32mis tuned?: False\u001b[0m\n",
      "\u001b[32mdatagroup name: tutorial\u001b[0m\n",
      "\u001b[34mparams: {'boosting_type': 'gbdt', 'n_estimators': 10000, 'max_depth': 8, 'num_leaves': 6, 'random_state': 17, 'metric': 'mae'}\u001b[0m\n",
      "______________________\n"
     ]
    }
   ],
   "source": [
    "# Load train instance \n",
    "instance.load_instance(instance_name='test_instance')"
   ]
  },
  {
   "cell_type": "code",
   "execution_count": 10,
   "metadata": {},
   "outputs": [
    {
     "ename": "NameError",
     "evalue": "name 'trial' is not defined",
     "output_type": "error",
     "traceback": [
      "\u001b[0;31m---------------------------------------------------------------------------\u001b[0m",
      "\u001b[0;31mNameError\u001b[0m                                 Traceback (most recent call last)",
      "Cell \u001b[0;32mIn[10], line 6\u001b[0m\n\u001b[1;32m      1\u001b[0m \u001b[38;5;66;03m# tune instance \u001b[39;00m\n\u001b[1;32m      3\u001b[0m param_space\u001b[38;5;241m=\u001b[39m {\n\u001b[1;32m      4\u001b[0m     \u001b[38;5;124m'\u001b[39m\u001b[38;5;124mboosting_type\u001b[39m\u001b[38;5;124m'\u001b[39m : \u001b[38;5;124m'\u001b[39m\u001b[38;5;124mgbdt\u001b[39m\u001b[38;5;124m'\u001b[39m,\n\u001b[1;32m      5\u001b[0m     \u001b[38;5;124m\"\u001b[39m\u001b[38;5;124mn_estimators\u001b[39m\u001b[38;5;124m\"\u001b[39m : \u001b[38;5;241m10000\u001b[39m,\n\u001b[0;32m----> 6\u001b[0m     \u001b[38;5;124m'\u001b[39m\u001b[38;5;124mmax_depth\u001b[39m\u001b[38;5;124m'\u001b[39m:\u001b[43mtrial\u001b[49m\u001b[38;5;241m.\u001b[39msuggest_int(\u001b[38;5;124m'\u001b[39m\u001b[38;5;124mmax_depth\u001b[39m\u001b[38;5;124m'\u001b[39m, \u001b[38;5;241m4\u001b[39m, \u001b[38;5;241m16\u001b[39m),\n\u001b[1;32m      7\u001b[0m     \u001b[38;5;124m'\u001b[39m\u001b[38;5;124mreg_alpha\u001b[39m\u001b[38;5;124m'\u001b[39m: trial\u001b[38;5;241m.\u001b[39msuggest_float(\u001b[38;5;124m'\u001b[39m\u001b[38;5;124mreg_alpha\u001b[39m\u001b[38;5;124m'\u001b[39m, \u001b[38;5;241m1e-8\u001b[39m, \u001b[38;5;241m10.0\u001b[39m),\n\u001b[1;32m      8\u001b[0m     \u001b[38;5;124m'\u001b[39m\u001b[38;5;124mreg_lambda\u001b[39m\u001b[38;5;124m'\u001b[39m: trial\u001b[38;5;241m.\u001b[39msuggest_float(\u001b[38;5;124m'\u001b[39m\u001b[38;5;124mreg_lambda\u001b[39m\u001b[38;5;124m'\u001b[39m, \u001b[38;5;241m1e-8\u001b[39m, \u001b[38;5;241m10.0\u001b[39m),\n\u001b[1;32m      9\u001b[0m     \u001b[38;5;124m'\u001b[39m\u001b[38;5;124mnum_leaves\u001b[39m\u001b[38;5;124m'\u001b[39m: trial\u001b[38;5;241m.\u001b[39msuggest_int(\u001b[38;5;124m'\u001b[39m\u001b[38;5;124mnum_leaves\u001b[39m\u001b[38;5;124m'\u001b[39m, \u001b[38;5;241m8\u001b[39m, \u001b[38;5;241m32\u001b[39m),\n\u001b[1;32m     10\u001b[0m     \u001b[38;5;124m'\u001b[39m\u001b[38;5;124mcolsample_bytree\u001b[39m\u001b[38;5;124m'\u001b[39m: trial\u001b[38;5;241m.\u001b[39msuggest_float(\u001b[38;5;124m'\u001b[39m\u001b[38;5;124mcolsample_bytree\u001b[39m\u001b[38;5;124m'\u001b[39m, \u001b[38;5;241m0.5\u001b[39m, \u001b[38;5;241m1.0\u001b[39m),\n\u001b[1;32m     11\u001b[0m     \u001b[38;5;124m'\u001b[39m\u001b[38;5;124msubsample\u001b[39m\u001b[38;5;124m'\u001b[39m: trial\u001b[38;5;241m.\u001b[39msuggest_float(\u001b[38;5;124m'\u001b[39m\u001b[38;5;124msubsample\u001b[39m\u001b[38;5;124m'\u001b[39m, \u001b[38;5;241m0.8\u001b[39m, \u001b[38;5;241m1.0\u001b[39m),\n\u001b[1;32m     12\u001b[0m     \u001b[38;5;124m'\u001b[39m\u001b[38;5;124msubsample_freq\u001b[39m\u001b[38;5;124m'\u001b[39m: trial\u001b[38;5;241m.\u001b[39msuggest_int(\u001b[38;5;124m'\u001b[39m\u001b[38;5;124msubsample_freq\u001b[39m\u001b[38;5;124m'\u001b[39m, \u001b[38;5;241m1\u001b[39m, \u001b[38;5;241m8\u001b[39m),\n\u001b[1;32m     13\u001b[0m     \u001b[38;5;124m'\u001b[39m\u001b[38;5;124mmin_child_samples\u001b[39m\u001b[38;5;124m'\u001b[39m: trial\u001b[38;5;241m.\u001b[39msuggest_int(\u001b[38;5;124m'\u001b[39m\u001b[38;5;124mmin_child_samples\u001b[39m\u001b[38;5;124m'\u001b[39m, \u001b[38;5;241m16\u001b[39m, \u001b[38;5;241m64\u001b[39m),\n\u001b[1;32m     14\u001b[0m     \u001b[38;5;124m'\u001b[39m\u001b[38;5;124mrandom_state\u001b[39m\u001b[38;5;124m'\u001b[39m: random_seed,\n\u001b[1;32m     15\u001b[0m     \u001b[38;5;124m'\u001b[39m\u001b[38;5;124mmetric\u001b[39m\u001b[38;5;124m'\u001b[39m: metric, \n\u001b[1;32m     16\u001b[0m     \u001b[38;5;124m'\u001b[39m\u001b[38;5;124mverbose\u001b[39m\u001b[38;5;124m'\u001b[39m : \u001b[38;5;241m-\u001b[39m\u001b[38;5;241m1\u001b[39m, \n\u001b[1;32m     17\u001b[0m }\n",
      "\u001b[0;31mNameError\u001b[0m: name 'trial' is not defined"
     ]
    }
   ],
   "source": [
    "# Tune \n",
    "\n",
    "instance.tune(_param_space) \n",
    "\n",
    "def _param_space(trial): \n",
    "    param_space= {\n",
    "        'boosting_type' : 'gbdt',\n",
    "        \"n_estimators\" : 10000,\n",
    "        'max_depth':trial.suggest_int('max_depth', 4, 16),\n",
    "        'reg_alpha': trial.suggest_float('reg_alpha', 1e-8, 10.0),\n",
    "        'reg_lambda': trial.suggest_float('reg_lambda', 1e-8, 10.0),\n",
    "        'num_leaves': trial.suggest_int('num_leaves', 8, 32),\n",
    "        'colsample_bytree': trial.suggest_float('colsample_bytree', 0.5, 1.0),\n",
    "        'subsample': trial.suggest_float('subsample', 0.8, 1.0),\n",
    "        'subsample_freq': trial.suggest_int('subsample_freq', 1, 8),\n",
    "        'min_child_samples': trial.suggest_int('min_child_samples', 16, 64),\n",
    "        'verbose' : -1, \n",
    "    }\n",
    "    return param_space"
   ]
  },
  {
   "cell_type": "markdown",
   "metadata": {},
   "source": [
    "## 4. Model predict"
   ]
  },
  {
   "cell_type": "code",
   "execution_count": null,
   "metadata": {},
   "outputs": [],
   "source": [
    "# predict \n",
    "\n"
   ]
  },
  {
   "cell_type": "markdown",
   "metadata": {},
   "source": [
    "## 5. Demonstration"
   ]
  },
  {
   "cell_type": "code",
   "execution_count": null,
   "metadata": {},
   "outputs": [],
   "source": []
  }
 ],
 "metadata": {
  "interpreter": {
   "hash": "aee8b7b246df8f9039afb4144a1f6fd8d2ca17a180786b69acc140d282b71a49"
  },
  "kernelspec": {
   "display_name": "Python 3.9.5 64-bit",
   "language": "python",
   "name": "python3"
  },
  "language_info": {
   "codemirror_mode": {
    "name": "ipython",
    "version": 3
   },
   "file_extension": ".py",
   "mimetype": "text/x-python",
   "name": "python",
   "nbconvert_exporter": "python",
   "pygments_lexer": "ipython3",
   "version": "3.8.8"
  },
  "orig_nbformat": 4
 },
 "nbformat": 4,
 "nbformat_minor": 2
}
